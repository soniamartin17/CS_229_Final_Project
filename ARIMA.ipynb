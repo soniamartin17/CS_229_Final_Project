{
  "nbformat": 4,
  "nbformat_minor": 0,
  "metadata": {
    "colab": {
      "name": "CS229_ARIMA.ipynb",
      "provenance": [],
      "collapsed_sections": []
    },
    "kernelspec": {
      "name": "python3",
      "display_name": "Python 3"
    },
    "language_info": {
      "name": "python"
    }
  },
  "cells": [
    {
      "cell_type": "code",
      "metadata": {
        "id": "mkdSFl58FNgB"
      },
      "source": [
        "pip install statsmodels --upgrade"
      ],
      "execution_count": null,
      "outputs": []
    },
    {
      "cell_type": "code",
      "metadata": {
        "id": "HvHKh5HLiZZ_"
      },
      "source": [
        "import math\n",
        "import matplotlib.pyplot as plt\n",
        "import pandas as pd\n",
        "import numpy as np\n",
        "import os\n",
        "import statsmodels\n",
        "\n",
        "from matplotlib import pyplot\n",
        "\n",
        "from sklearn.preprocessing import MinMaxScaler\n",
        "from sklearn.metrics import mean_squared_error\n",
        "from sklearn.metrics import mean_absolute_error\n",
        "from sklearn.model_selection import train_test_split\n",
        "from sklearn.metrics import mean_squared_error\n",
        "\n",
        "from math import sqrt\n",
        "\n",
        "from statsmodels.tsa.ar_model import AutoReg\n",
        "from statsmodels.tsa.ar_model import ar_select_order\n",
        "from statsmodels.graphics.tsaplots import plot_acf\n",
        "\n",
        "from pandas import read_csv\n",
        "from pandas.plotting import autocorrelation_plot\n",
        "from pandas.plotting import lag_plot\n",
        "\n",
        "from google.colab import drive\n",
        "drive.mount('/content/drive')\n",
        "images_dir = '/content/drive/MyDrive/CS229_Project'"
      ],
      "execution_count": null,
      "outputs": []
    },
    {
      "cell_type": "code",
      "metadata": {
        "id": "EzABeys5i9gb"
      },
      "source": [
        "def ARIMA(prices):\n",
        "\t# split the data\n",
        "\ttrain_test_split=.8\n",
        "\ttrain_test_split = round(train_test_split * prices.shape[0])\n",
        "\n",
        "\t#construct train and test sets\n",
        "\ttrain, test = prices.values[:train_test_split], prices.values[train_test_split:]\n",
        "\n",
        "\t#select optimal number of lags\n",
        "\tnum_lags = ar_select_order(prices, maxlag=50)\n",
        "\tsequence_length = len(num_lags.ar_lags)\n",
        "\tmodel = AutoReg(train, lags=num_lags.ar_lags)\n",
        "\tfit = model.fit()\n",
        "\tprior = list(train[len(train)-sequence_length:])\n",
        "\tpredicted = []\n",
        "\n",
        "\t#go through the test set and predict \n",
        "\tfor i in range(len(test)):\n",
        "\t\tlag_list = list(prior[len(prior)-sequence_length:])\n",
        "\t\ty_predict = fit.params[0]\n",
        "\t\t#update y_predict\n",
        "\t\tfor j in range(sequence_length):\n",
        "\t\t\ty_predict = y_predict + fit.params[j+1] * lag_list[sequence_length-j-1]\n",
        "\t\tpredicted.append(y_predict)\n",
        "\t\tprior.append(test[i])\n",
        "\treturn test, predicted\n",
        " \n",
        "def rmse(actual, predicted):\n",
        "\t#calculate RMSE\n",
        "\trmse = sqrt(mean_squared_error(actual, predicted))\n",
        "\treturn rmse\n",
        "\n",
        "def plot_prices(test, predicted, length, days):\n",
        "\tplt.plot(test[:length], label = 'Real Price')\n",
        "\tpred=predicted[:length]\n",
        "\tpyplot.plot(pred, color='red', label = 'Predicted Price')\n",
        "\tplt.xlabel('Time [days]')\n",
        "\tplt.xticks(ticks=np.arange(0, len(pred), 24*days), labels=[days*int(x) for x in np.arange(0, len(pred), 24)/24])\n",
        "\tplt.ylabel('Price [$]')\n",
        "\tplt.legend()\n",
        "\tplt.savefig(f\"{images_dir}/ARIMA_LMP_subset.png\", dpi=500) \n",
        "\tplt.show()\n",
        " \n",
        "def plot_lag(prices):\n",
        "\tlag_plot(prices)\n",
        "\tplt.xlabel('Price(t) [$]')\n",
        "\tplt.ylabel('Price(t+1) [$]')\n",
        "\tplt.savefig(f\"{images_dir}/ARIMA_lagplot.png\", dpi=500)\n",
        "\tplt.show()\n",
        "\n",
        "def plot_autocorr(prices):\n",
        "\tautocorrelation_plot(prices)\n",
        "\tplt.xlabel('Lags [Hours]')\n",
        "\tplt.savefig(f\"{images_dir}/ARIMA_autocorrelation.png\", dpi=500)\n",
        "\tplt.show()\n",
        " \n",
        "def plot_autocorr_subset(prices, length):\n",
        "\tplot_acf(prices, lags=length)\n",
        "\tplt.xlabel('Lags [hours]')\n",
        "\tplt.ylabel('Autocorrelation')\n",
        "\tplt.title('')\n",
        "\tplt.savefig(f\"{images_dir}/ARIMA_autocorr_lags31.png\", dpi=500)\n",
        "\tpyplot.show()\n",
        " "
      ],
      "execution_count": 29,
      "outputs": []
    },
    {
      "cell_type": "code",
      "metadata": {
        "id": "LFUGocEyDbWo"
      },
      "source": [
        "# load the dataset\n",
        "lmps_pacifica = read_csv('/content/drive/MyDrive/CS229_Project/pacifica_oct_lmp.csv', header=0, index_col=0)\n",
        "lmps_bellhaven = read_csv('/content/drive/MyDrive/CS229_Project/bellehaven_2019.csv', header=0, index_col=0, parse_dates=True, squeeze=True)\n",
        "\n",
        "#run ARIMA and print RMSE\n",
        "test, predicted=ARIMA(lmps_bellhaven)\n",
        "RMSE = rmse(test, predicted)\n",
        "print('Test RMSE: %.3f' % RMSE)\n",
        "\n",
        "#plot predictions\n",
        "plot_prices(test, predicted, len(test), 4)\n",
        "plot_prices(test, predicted, 50, 1)\n",
        "\n",
        "#plot lag plot\n",
        "plot_lag(lmps_pacifica)\n",
        "\n",
        "#plot autocorrelation\n",
        "plot_autocorr(lmps_pacifica)\n",
        "\n",
        "#plot autocorrelation for first 31 lags \n",
        "plot_autocorr_subset(lmps_pacifica, 31)\n"
      ],
      "execution_count": null,
      "outputs": []
    }
  ]
}