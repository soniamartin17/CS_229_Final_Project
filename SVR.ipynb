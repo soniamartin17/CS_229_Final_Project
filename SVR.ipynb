{
  "nbformat": 4,
  "nbformat_minor": 0,
  "metadata": {
    "colab": {
      "name": "CS229_SVR_old.ipynb",
      "provenance": [],
      "collapsed_sections": []
    },
    "kernelspec": {
      "name": "python3",
      "display_name": "Python 3"
    },
    "language_info": {
      "name": "python"
    }
  },
  "cells": [
    {
      "cell_type": "code",
      "metadata": {
        "id": "XM_CtPJ_qrbs"
      },
      "source": [
        "import datetime\n",
        "from datetime import date\n",
        "import matplotlib.pyplot as plt\n",
        "import fix_yahoo_finance as yf\n",
        "import pandas as pd\n",
        "from sklearn.svm import SVR\n",
        "import csv\n",
        "import numpy as np\n",
        "from pandas import concat\n",
        "from math import sqrt\n",
        "from sklearn.metrics import mean_squared_error\n",
        "from google.colab import drive\n",
        "\n",
        "drive.mount('/content/drive')\n",
        "\n",
        "#df = pd.read_csv('/content/drive/MyDrive/CS229_Project/pacifica_oct_lmp.csv')\n",
        "df = pd.read_csv('/content/drive/MyDrive/CS229_Project/bellehaven_2019.csv')\n",
        "\n",
        "images_dir = '/content/drive/MyDrive/CS229_Project'"
      ],
      "execution_count": null,
      "outputs": []
    },
    {
      "cell_type": "code",
      "metadata": {
        "id": "OS37x1Mnq5rT"
      },
      "source": [
        "\n",
        "def predict_price(X_train,y_train, X_test):\n",
        "  #reshape data into 2D array to feed into SVR model\n",
        "  X_train = np.reshape(X_train[:,0],(X_train.shape[0], 1)) \n",
        "  X_test = np.reshape(X_test[:,0],(X_test.shape[0], 1)) \n",
        "  svr_rbf = SVR(kernel = 'rbf', C = 1e3, gamma = 1) \n",
        "  svr_rbf.fit(X_train, y_train)\n",
        "  y_predict=svr_rbf.predict(X_test)\n",
        "  return y_predict\n",
        "\n",
        "def train_split(df, split=0.8, sequence_length=25, shift=1):\n",
        "  num_train = round(split * df.shape[0])\n",
        "  X_train = np.zeros((num_train-sequence_length,sequence_length-shift))\n",
        "  for i in range(sequence_length, num_train):\n",
        "    X_train[i-sequence_length,:]=df['MW'][i-(sequence_length-shift):i]\n",
        "  y_train=list(df['MW'][sequence_length:num_train])\n",
        "  return X_train, y_train\n",
        "\n",
        "def test_split(df, split = 0.8, sequence_length = 25, shift = 1):\n",
        "  num_train = round(split * df.shape[0])\n",
        "  X_test=np.zeros((df['MW'].shape[0]-num_train,sequence_length-shift))\n",
        "  test_in = df['MW'][df['MW'].shape[0] - X_test.shape[0] - sequence_length:]\n",
        "  #shift X-test data by 1\n",
        "  for i in range(sequence_length, X_test.shape[0]+sequence_length-1):  \n",
        "    X_test[i-sequence_length,:]=test_in[i-(sequence_length-shift):i]\n",
        "  y_test=test_in[sequence_length:]\n",
        "  return X_test, y_test\n",
        "\n",
        "def RMSE(actual, predicted):\n",
        "  # calculate RMSE\n",
        "  rmse = sqrt(mean_squared_error(actual, predicted))\n",
        "  print('Test RMSE: %.3f' % rmse)\n",
        "  return rmse\n",
        "\n",
        "X_train, y_train = train_split(df)\n",
        "X_test, y_test = test_split(df)\n",
        "predicted = predict_price(X_train,y_train, X_test) \n",
        "rmse = RMSE(y_test.values, predicted)\n",
        "\n",
        "# plot\n",
        "fig,ax = plt.subplots()\n",
        "plt.plot(y_test.values, label = 'Real Price')\n",
        "plt.plot(predicted, color='red', label = 'Predicted Price')\n",
        "plt.xlabel('Time [days]')\n",
        "plt.xticks(ticks=np.arange(0, len(predicted), 96), labels=[4*int(x) for x in np.arange(0, len(predicted), 24)/24])\n",
        "\n",
        "plt.ylabel('Price [$]')\n",
        "plt.legend()\n",
        "plt.savefig(f\"{images_dir}/SVR_25seqlen_1oldlag.png\", dpi=500)\n",
        "plt.show()\n"
      ],
      "execution_count": null,
      "outputs": []
    }
  ]
}