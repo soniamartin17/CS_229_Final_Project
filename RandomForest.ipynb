{
  "nbformat": 4,
  "nbformat_minor": 0,
  "metadata": {
    "colab": {
      "name": "RandomForest.ipynb",
      "provenance": [],
      "collapsed_sections": []
    },
    "kernelspec": {
      "display_name": "Python 3",
      "name": "python3"
    },
    "language_info": {
      "name": "python"
    }
  },
  "cells": [
    {
      "cell_type": "code",
      "metadata": {
        "id": "Iu4umCBjBgLv"
      },
      "source": [
        "import numpy as np\n",
        "import pandas as pd\n",
        "from sklearn.metrics import mean_absolute_error\n",
        "from sklearn.ensemble import RandomForestRegressor\n",
        "from math import sqrt\n",
        "from sklearn.metrics import mean_squared_error\n",
        "import matplotlib.pyplot as plt\n",
        "import pandas as pd\n",
        "import numpy as np\n",
        "from google.colab import drive\n",
        "drive.mount('/content/drive')\n",
        "images_dir = '/content/drive/MyDrive/CS229_Project'"
      ],
      "execution_count": null,
      "outputs": []
    },
    {
      "cell_type": "code",
      "metadata": {
        "id": "kNDoll6e-UFL"
      },
      "source": [
        "# transform time series dataset into supervised learning\n",
        "def series_transform(df, lags, n_predict=1):\n",
        "\tdata = list()\n",
        "\tfor i in range(lags, 0, -1):\n",
        "\t\tdata.append(df.shift(i))\n",
        "\tfor i in range(0, n_predict):\n",
        "\t\tdata.append(df.shift(-i))\n",
        "\tall_data = pd.concat(data, axis=1)\n",
        "\tall_data.dropna(inplace=True)\n",
        "\treturn all_data.values\n",
        " \n",
        "# split data into train/test\n",
        "def train_test_split(series):\n",
        "  train_test_split=.8\n",
        "  num_train = round(train_test_split * series.shape[0])\n",
        "  train, test = series[:num_train], series[num_train:]\n",
        "  return train, test\n",
        "\n",
        "# fit random forest model and make predictions\n",
        "def rf_predict(train, test_X):\n",
        "\ttrain_X, train_y = train[:, :-1], train[:, -1]\n",
        "\tRF = RandomForestRegressor(n_estimators=100, criterion='squared_error', max_features= .5) # hyperparameter tuning: # of trees, error criterion, max features to consider\n",
        "\tRF.fit(train_X, train_y)\n",
        "\treturn RF.predict([test_X])[0]\n",
        " \n",
        "# walk-forward validation\n",
        "def walk_forward_valid(train, test):\n",
        "\tpast = list(train)\n",
        "\tforecast = list()\n",
        "\tfor i in range(len(test)):\n",
        "\t\tprint('i:',i)\n",
        "\t\ttest_X, test_y = test[i, :-1], test[i, -1]\n",
        "\t\tprice_predict = rf_predict(np.asarray(past), test_X)\n",
        "\t\tforecast.append(price_predict)\n",
        "\t\tpast.append(test[i])\n",
        "\treturn test[:, -1], forecast\n",
        "\n",
        "def RMSE(actual, predicted):\n",
        "  # calculate RMSE\n",
        "  rmse = sqrt(mean_squared_error(actual, predicted))\n",
        "  print('Test RMSE: %.3f' % rmse)\n",
        "  return rmse\n",
        " \n",
        "# load the dataset\n",
        "# series = pd.read_csv('/content/drive/MyDrive/CS229_Project/pacifica_oct_lmp.csv', header=0, index_col=0, parse_dates=True, squeeze=True)\n",
        "series = pd.read_csv('/content/drive/MyDrive/CS229_Project/bellehaven_2019.csv', header=0, index_col=0, parse_dates=True, squeeze=True)\n",
        "df = pd.DataFrame(series.values)\n",
        "data = series_transform(df, lags=25)\n",
        "train, test = train_test_split(data)\n",
        "y_test, y_predict = walk_forward_valid(train, test)\n",
        "rmse = RMSE(y_test, y_predict)"
      ],
      "execution_count": null,
      "outputs": []
    },
    {
      "cell_type": "code",
      "metadata": {
        "id": "Ashh6lqZKujr"
      },
      "source": [
        "# plot\n",
        "plt.plot(y_test, label = 'Real Price')\n",
        "plt.plot(y_predict, color='red', label = 'Predicted Price')\n",
        "plt.title('Random Forest LMP Price Prediction')\n",
        "plt.xlabel('Time [days]')\n",
        "plt.xticks(ticks=np.arange(0, len(y_predict), 96), labels=[4*int(x) for x in np.arange(0, len(y_predict), 24)/24])\n",
        "\n",
        "plt.ylabel('Price [$]')\n",
        "plt.legend()\n",
        "plt.savefig(f\"{images_dir}/RF_25lags_abs_error.png\", dpi=500)\n",
        "plt.show()"
      ],
      "execution_count": null,
      "outputs": []
    }
  ]
}